{
 "cells": [
  {
   "cell_type": "code",
   "execution_count": 2,
   "metadata": {},
   "outputs": [
    {
     "name": "stderr",
     "output_type": "stream",
     "text": [
      "Matplotlib is building the font cache; this may take a moment.\n"
     ]
    }
   ],
   "source": [
    "from osgeo import gdal\n",
    "import pandas as pd\n",
    "import numpy as np\n",
    "import os\n",
    "import matplotlib.pyplot as plt\n"
   ]
  },
  {
   "cell_type": "code",
   "execution_count": 20,
   "metadata": {},
   "outputs": [
    {
     "name": "stdout",
     "output_type": "stream",
     "text": [
      "/Volumes/Kew Back Up 1/KEW/Cluster_Code/March_25_Run/June_Output/processing\n",
      "/Volumes/Kew Back Up 1/KEW/Cluster_Code/March_25_Run/June_Output/processing\n",
      "           x          y  min_distance  num_distances\n",
      "0 -44.779306  59.995694         0.000              1\n",
      "1 -33.887639  83.654027        17.780              3\n",
      "2 -33.787639  83.654027        38.399              1\n",
      "3 -33.754306  83.654027        32.247              1\n",
      "4 -31.345973  83.654027        16.413              4\n"
     ]
    }
   ],
   "source": [
    "print(os.getcwd())\n",
    "os.chdir('/Volumes/Kew Back Up 1/KEW/Cluster_Code/March_25_Run/June_Output/Processing')\n",
    "print(os.getcwd())\n",
    "df = pd.read_csv('Processed_Output_minCD_numanalog.csv')\n",
    "print(df.head())"
   ]
  },
  {
   "cell_type": "code",
   "execution_count": 21,
   "metadata": {},
   "outputs": [],
   "source": [
    "\n",
    "df_noNA = df.dropna(subset=[\"min_distance\"])\n",
    "df_noNA.to_csv(\"Processed_Output_minCD_numanalog_clean.csv\", index=False)"
   ]
  },
  {
   "cell_type": "code",
   "execution_count": 23,
   "metadata": {},
   "outputs": [],
   "source": [
    "\n",
    "ds = gdal.Open(\"/Volumes/Kew Back Up 1/KEW/Cluster_Code/Climate_inputs/T1_temp_full.tif\")\n",
    "ar = ds.GetRasterBand(1).ReadAsArray()\n",
    "flat = ar.flatten()\n",
    "gt = ds.GetGeoTransform()\n",
    "res = gt[1]\n",
    "xmin = gt[0]\n",
    "ymax = gt[3]\n",
    "xsize = ds.RasterXSize\n",
    "ysize = ds.RasterYSize\n",
    "xstart = xmin +res/2\n",
    "ystart = ymax - res/2\n",
    "ds = None\n",
    "noDataValue = -9999"
   ]
  },
  {
   "cell_type": "code",
   "execution_count": 25,
   "metadata": {},
   "outputs": [],
   "source": [
    "with open(\"OUTPUT_minCD.vrt\", \"w\") as f:\n",
    "    f.write('''<OGRVRTDataSource>\n",
    "    <OGRVRTLayer name=\"Processed_Output_minCD_numanalog_clean\"> \n",
    "        <SrcDataSource relativeToVRT=\"1\">/Volumes/Kew Back Up 1/KEW/Cluster_Code/March_25_Run/June_Output/Processing/Processed_Output_minCD_numanalog_clean.csv</SrcDataSource>\n",
    "        <LayerSRS>WGS84</LayerSRS>\n",
    "        <GeometryType>wkbPoint</GeometryType>\n",
    "        <GeometryField encoding=\"PointFromColumns\" x=\"x\" y=\"y\" z=\"min_distance\"/>\n",
    "    </OGRVRTLayer>\n",
    "</OGRVRTDataSource>''')\n"
   ]
  },
  {
   "cell_type": "code",
   "execution_count": 26,
   "metadata": {},
   "outputs": [],
   "source": [
    "r = gdal.Rasterize(\"OUTPUT_minCD.tif\", \"OUTPUT_minCD.vrt\", outputSRS = \"EPSG:4326\", \n",
    "                          xRes = res, yRes = res, attribute = \"min_distance\", noData = noDataValue)\n",
    "r=None"
   ]
  },
  {
   "cell_type": "code",
   "execution_count": 18,
   "metadata": {},
   "outputs": [],
   "source": [
    "with open(\"OUTPUT_numanalog.vrt\", \"w\") as f:\n",
    "    f.write('''<OGRVRTDataSource>\n",
    "    <OGRVRTLayer name=\"Processed_Output_minCD_numanalog\"> \n",
    "        <SrcDataSource relativeToVRT=\"1\">/Volumes/Kew Back Up 1/KEW/Cluster_Code/March_25_Run/June_Output/Processing/Processed_Output_minCD_numanalog.csv</SrcDataSource>\n",
    "        <LayerSRS>WGS84</LayerSRS>\n",
    "        <GeometryType>wkbPoint</GeometryType>\n",
    "        <GeometryField encoding=\"PointFromColumns\" x=\"x\" y=\"y\" z=\"num_distances\"/>\n",
    "    </OGRVRTLayer>\n",
    "</OGRVRTDataSource>''')"
   ]
  },
  {
   "cell_type": "code",
   "execution_count": 19,
   "metadata": {},
   "outputs": [],
   "source": [
    "r = gdal.Rasterize(\"OUTPUT_numanalog.tif\", \"OUTPUT_numanalog.vrt\", outputSRS = \"EPSG:4326\", \n",
    "                          xRes = res, yRes = res, attribute = \"num_distances\", noData = noDataValue)\n",
    "r=None"
   ]
  }
 ],
 "metadata": {
  "kernelspec": {
   "display_name": "cdenv",
   "language": "python",
   "name": "python3"
  },
  "language_info": {
   "codemirror_mode": {
    "name": "ipython",
    "version": 3
   },
   "file_extension": ".py",
   "mimetype": "text/x-python",
   "name": "python",
   "nbconvert_exporter": "python",
   "pygments_lexer": "ipython3",
   "version": "3.13.5"
  }
 },
 "nbformat": 4,
 "nbformat_minor": 2
}
